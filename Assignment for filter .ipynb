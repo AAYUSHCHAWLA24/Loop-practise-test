{
 "cells": [
  {
   "cell_type": "code",
   "execution_count": 7,
   "id": "c6ebb997",
   "metadata": {},
   "outputs": [],
   "source": [
    "aa=[('Sachin Tendulkar', 34357), ('Ricky Ponting', 27483), ('Jack Kallis', 25534), ('Virat Kohli', 24936)]"
   ]
  },
  {
   "cell_type": "code",
   "execution_count": 8,
   "id": "42628292",
   "metadata": {},
   "outputs": [],
   "source": [
    "aa.sort(key = lambda x: x[1])\n"
   ]
  },
  {
   "cell_type": "code",
   "execution_count": 9,
   "id": "8b5ffc88",
   "metadata": {},
   "outputs": [
    {
     "name": "stdout",
     "output_type": "stream",
     "text": [
      "[('Virat Kohli', 24936), ('Jack Kallis', 25534), ('Ricky Ponting', 27483), ('Sachin Tendulkar', 34357)]\n"
     ]
    }
   ],
   "source": [
    "print(aa)"
   ]
  },
  {
   "cell_type": "markdown",
   "id": "05c280db",
   "metadata": {},
   "source": [
    "# Q2"
   ]
  },
  {
   "cell_type": "code",
   "execution_count": 10,
   "id": "90f0095f",
   "metadata": {},
   "outputs": [],
   "source": [
    "l=[1, 2, 3, 4, 5, 6, 7, 8, 9, 10]"
   ]
  },
  {
   "cell_type": "code",
   "execution_count": 17,
   "id": "f4b4a6b5",
   "metadata": {},
   "outputs": [],
   "source": [
    "l1=[]\n",
    "def sq():\n",
    "    for i in l:\n",
    "        i=i**2\n",
    "        print(i)\n",
    "        \n",
    "      \n",
    "        "
   ]
  },
  {
   "cell_type": "code",
   "execution_count": 19,
   "id": "ee2b3d90",
   "metadata": {},
   "outputs": [
    {
     "name": "stdout",
     "output_type": "stream",
     "text": [
      "1\n",
      "4\n",
      "9\n",
      "16\n",
      "25\n",
      "36\n",
      "49\n",
      "64\n",
      "81\n",
      "100\n"
     ]
    }
   ],
   "source": [
    "sq()"
   ]
  },
  {
   "cell_type": "code",
   "execution_count": 20,
   "id": "ddf73681",
   "metadata": {},
   "outputs": [],
   "source": [
    "b=[1, 2, 3, 4, 5, 6, 7, 8, 9, 10]"
   ]
  },
  {
   "cell_type": "code",
   "execution_count": 21,
   "id": "176db09b",
   "metadata": {},
   "outputs": [
    {
     "data": {
      "text/plain": [
       "('1', '2', '3', '4', '5', '6', '7', '8', '9', '10')"
      ]
     },
     "execution_count": 21,
     "metadata": {},
     "output_type": "execute_result"
    }
   ],
   "source": [
    "tuple(map(str,b))"
   ]
  },
  {
   "cell_type": "code",
   "execution_count": 4,
   "id": "965afc0d",
   "metadata": {},
   "outputs": [
    {
     "name": "stdout",
     "output_type": "stream",
     "text": [
      "[3, 6, 9, 27, 60, 90, 120, 55]\n"
     ]
    }
   ],
   "source": [
    "c=[2, 3, 6, 9, 27, 60, 90, 120, 55, 46]\n",
    "result = list(filter(lambda x: (x % 5 == 0 or x% 3 ==0), c))\n",
    "print(result)"
   ]
  },
  {
   "cell_type": "code",
   "execution_count": null,
   "id": "0c2d4a42",
   "metadata": {},
   "outputs": [],
   "source": []
  }
 ],
 "metadata": {
  "kernelspec": {
   "display_name": "Python 3 (ipykernel)",
   "language": "python",
   "name": "python3"
  },
  "language_info": {
   "codemirror_mode": {
    "name": "ipython",
    "version": 3
   },
   "file_extension": ".py",
   "mimetype": "text/x-python",
   "name": "python",
   "nbconvert_exporter": "python",
   "pygments_lexer": "ipython3",
   "version": "3.10.9"
  }
 },
 "nbformat": 4,
 "nbformat_minor": 5
}
