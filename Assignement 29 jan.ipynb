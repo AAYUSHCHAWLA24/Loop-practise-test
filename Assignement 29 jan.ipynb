{
 "cells": [
  {
   "cell_type": "code",
   "execution_count": null,
   "id": "2e4872eb",
   "metadata": {},
   "outputs": [],
   "source": [
    "#Q1\n",
    "Guido van Rossum"
   ]
  },
  {
   "cell_type": "code",
   "execution_count": null,
   "id": "6b0df187",
   "metadata": {},
   "outputs": [],
   "source": [
    "#Q2\n",
    "Python is a multi-paradigm programming language. Object-oriented programming and structured programming are fully supported, and many of their features support functional programming and aspect-oriented programming (including metaprogramming and metaobjects)."
   ]
  },
  {
   "cell_type": "code",
   "execution_count": null,
   "id": "12f87d7a",
   "metadata": {},
   "outputs": [],
   "source": [
    "#Q3\n",
    "Yes, Python is a case-sensitive language, i.e., it treats uppercase and lowercase characters differently. This applies to identifiers too. You must avoid using the same name with different cases while naming identifiers"
   ]
  },
  {
   "cell_type": "code",
   "execution_count": null,
   "id": "f90156dc",
   "metadata": {},
   "outputs": [],
   "source": [
    "#Q4\n",
    ".py"
   ]
  },
  {
   "cell_type": "code",
   "execution_count": null,
   "id": "ce13e8b8",
   "metadata": {},
   "outputs": [],
   "source": [
    "#Q5\n",
    "Interpreter"
   ]
  },
  {
   "cell_type": "code",
   "execution_count": null,
   "id": "afbd1f39",
   "metadata": {},
   "outputs": [],
   "source": [
    "#Q6\n",
    "The following are blocks: a module, a function body, and a class definition. Each command typed interactively is a block. A script file (a file given as standard input to the interpreter or specified as a command line argument to the interpreter) is a code block."
   ]
  },
  {
   "cell_type": "code",
   "execution_count": null,
   "id": "d73d7efe",
   "metadata": {},
   "outputs": [],
   "source": [
    "#Q7\n",
    "#"
   ]
  },
  {
   "cell_type": "code",
   "execution_count": null,
   "id": "6556771c",
   "metadata": {},
   "outputs": [],
   "source": [
    "#Q8\n",
    "sys version"
   ]
  },
  {
   "cell_type": "code",
   "execution_count": null,
   "id": "9e61f778",
   "metadata": {},
   "outputs": [],
   "source": [
    "#Q9\n",
    "Lambda"
   ]
  },
  {
   "cell_type": "code",
   "execution_count": null,
   "id": "a91ab6f2",
   "metadata": {},
   "outputs": [],
   "source": [
    "#Q10\n",
    "pip Install Packages"
   ]
  },
  {
   "cell_type": "code",
   "execution_count": null,
   "id": "10a0e1f5",
   "metadata": {},
   "outputs": [],
   "source": [
    "#Q11\n"
   ]
  },
  {
   "cell_type": "code",
   "execution_count": null,
   "id": "16144f46",
   "metadata": {},
   "outputs": [],
   "source": [
    "#Q12\n",
    "79"
   ]
  },
  {
   "cell_type": "code",
   "execution_count": null,
   "id": "581d430f",
   "metadata": {},
   "outputs": [],
   "source": [
    "#Q14\n",
    "Memory management in Python involves a private heap containing all Python objects and data structures. The management of this private heap is ensured internally by the Python memory manager."
   ]
  }
 ],
 "metadata": {
  "kernelspec": {
   "display_name": "Python 3 (ipykernel)",
   "language": "python",
   "name": "python3"
  },
  "language_info": {
   "codemirror_mode": {
    "name": "ipython",
    "version": 3
   },
   "file_extension": ".py",
   "mimetype": "text/x-python",
   "name": "python",
   "nbconvert_exporter": "python",
   "pygments_lexer": "ipython3",
   "version": "3.10.9"
  }
 },
 "nbformat": 4,
 "nbformat_minor": 5
}
