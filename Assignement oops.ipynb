{
 "cells": [
  {
   "cell_type": "code",
   "execution_count": null,
   "id": "78a9491b",
   "metadata": {},
   "outputs": [],
   "source": [
    "#Q2\n",
    "object oriented programing system"
   ]
  },
  {
   "cell_type": "code",
   "execution_count": null,
   "id": "3cf6322a",
   "metadata": {},
   "outputs": [],
   "source": [
    "#Q3\n",
    "__init__ is a constructor used in any function to get input data\n",
    "\n",
    "class sectionA:\n",
    "    def __init__(self,name):\n",
    "        self.name=name\n",
    "        \n",
    "        "
   ]
  },
  {
   "cell_type": "code",
   "execution_count": null,
   "id": "5b3fe51b",
   "metadata": {},
   "outputs": [],
   "source": [
    "#Q4\n",
    "Self is always pointing to Current Object.\n",
    "\n",
    "as an adress \n"
   ]
  },
  {
   "cell_type": "code",
   "execution_count": null,
   "id": "aace9240",
   "metadata": {},
   "outputs": [],
   "source": [
    "#Q5\n",
    "# Python program to demonstrate\n",
    "# single inheritance\n",
    " \n",
    "# Base class\n",
    "class Parent:\n",
    "    def func1(self):\n",
    "        print(\"This function is in parent class.\")\n",
    " \n",
    "# Derived class\n",
    " \n",
    " \n",
    "class Child(Parent):\n",
    "    def func2(self):\n",
    "        print(\"This function is in child class.\")"
   ]
  }
 ],
 "metadata": {
  "kernelspec": {
   "display_name": "Python 3 (ipykernel)",
   "language": "python",
   "name": "python3"
  },
  "language_info": {
   "codemirror_mode": {
    "name": "ipython",
    "version": 3
   },
   "file_extension": ".py",
   "mimetype": "text/x-python",
   "name": "python",
   "nbconvert_exporter": "python",
   "pygments_lexer": "ipython3",
   "version": "3.10.9"
  }
 },
 "nbformat": 4,
 "nbformat_minor": 5
}
