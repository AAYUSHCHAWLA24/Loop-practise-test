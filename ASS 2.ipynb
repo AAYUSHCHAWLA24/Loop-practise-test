{
 "cells": [
  {
   "cell_type": "markdown",
   "id": "608b888b",
   "metadata": {},
   "source": [
    "# Q2\n"
   ]
  },
  {
   "cell_type": "markdown",
   "id": "a134ad0d",
   "metadata": {},
   "source": [
    "# *args passes variable number of non-keyworded arguments and on which operation of the tuple can be performed. **kwargs passes variable number of keyword arguments dictionary to function on which operation of a dictionary can be performed. *args and **kwargs make the function flexible."
   ]
  },
  {
   "cell_type": "markdown",
   "id": "d05a156f",
   "metadata": {},
   "source": [
    "# Q3"
   ]
  },
  {
   "cell_type": "code",
   "execution_count": 3,
   "id": "be9ef14f",
   "metadata": {},
   "outputs": [],
   "source": [
    "l=[2, 4, 6, 8, 10, 12, 14,16, 18, 20]"
   ]
  },
  {
   "cell_type": "code",
   "execution_count": 8,
   "id": "30e4c03f",
   "metadata": {},
   "outputs": [],
   "source": [
    "mm=iter(l)"
   ]
  },
  {
   "cell_type": "code",
   "execution_count": 12,
   "id": "df141c84",
   "metadata": {},
   "outputs": [
    {
     "name": "stdout",
     "output_type": "stream",
     "text": [
      "8\n",
      "10\n",
      "12\n",
      "14\n",
      "16\n"
     ]
    }
   ],
   "source": [
    "print(next(mm))\n",
    "print(next(mm))\n",
    "print(next(mm))\n",
    "print(next(mm))\n",
    "print(next(mm))"
   ]
  },
  {
   "cell_type": "markdown",
   "id": "dac1f09c",
   "metadata": {},
   "source": [
    "# Q4# "
   ]
  },
  {
   "cell_type": "markdown",
   "id": "d2e20f22",
   "metadata": {},
   "source": [
    "# Use of yield in Python\n",
    "yield keyword is used to create a generator function. A type of function that is memory efficient and can be used like an iterator object. In layman terms, the yield keyword will turn any expression that is given with it into a generator object and return it to the caller"
   ]
  },
  {
   "cell_type": "code",
   "execution_count": null,
   "id": "e080bee9",
   "metadata": {},
   "outputs": [],
   "source": [
    "def gen_func(x):\n",
    "    for i in range(x):\n",
    "        yield i"
   ]
  },
  {
   "cell_type": "markdown",
   "id": "b485c7d0",
   "metadata": {},
   "source": [
    "# Q5"
   ]
  },
  {
   "cell_type": "code",
   "execution_count": 29,
   "id": "1d67de7b",
   "metadata": {},
   "outputs": [],
   "source": [
    "r=list(range(1000))"
   ]
  },
  {
   "cell_type": "code",
   "execution_count": 39,
   "id": "36564237",
   "metadata": {},
   "outputs": [
    {
     "name": "stdout",
     "output_type": "stream",
     "text": [
      "Enter start2\n",
      "Enter end1000\n",
      "2\t3\t5\t7\t11\t13\t17\t19\t23\t29\t31\t37\t41\t43\t47\t53\t59\t61\t67\t71\t73\t79\t83\t89\t97\t101\t103\t107\t109\t113\t127\t131\t137\t139\t149\t151\t157\t163\t167\t173\t179\t181\t191\t193\t197\t199\t211\t223\t227\t229\t233\t239\t241\t251\t257\t263\t269\t271\t277\t281\t283\t293\t307\t311\t313\t317\t331\t337\t347\t349\t353\t359\t367\t373\t379\t383\t389\t397\t401\t409\t419\t421\t431\t433\t439\t443\t449\t457\t461\t463\t467\t479\t487\t491\t499\t503\t509\t521\t523\t541\t547\t557\t563\t569\t571\t577\t587\t593\t599\t601\t607\t613\t617\t619\t631\t641\t643\t647\t653\t659\t661\t673\t677\t683\t691\t701\t709\t719\t727\t733\t739\t743\t751\t757\t761\t769\t773\t787\t797\t809\t811\t821\t823\t827\t829\t839\t853\t857\t859\t863\t877\t881\t883\t887\t907\t911\t919\t929\t937\t941\t947\t953\t967\t971\t977\t983\t991\t997\t"
     ]
    }
   ],
   "source": [
    "from math import sqrt\n",
    "start=int(input('Enter start'))\n",
    "end=int(input('Enter end'))\n",
    "\n",
    "\n",
    "for i in range(start,end+ 1):\n",
    "    prime_flag = 0\n",
    "    for j in range(2,i):\n",
    "        if (i % j == 0):\n",
    "            prime_flag = 1\n",
    "            break\n",
    "            \n",
    "    if (prime_flag == 0):\n",
    "        print(i,end='\\t')\n",
    "   "
   ]
  },
  {
   "cell_type": "markdown",
   "id": "04abae20",
   "metadata": {},
   "source": [
    "# Q6\n"
   ]
  },
  {
   "cell_type": "code",
   "execution_count": 47,
   "id": "bc3a4dd0",
   "metadata": {},
   "outputs": [
    {
     "name": "stdout",
     "output_type": "stream",
     "text": [
      "enter number10\n",
      "0\n",
      "1\n",
      "1\n",
      "2\n",
      "3\n",
      "5\n"
     ]
    }
   ],
   "source": [
    "a,b=0,1\n",
    "n=int(input('enter number'))\n",
    "c=0\n",
    "while c < n:\n",
    "    print(a)\n",
    "    c=a+b\n",
    "    a=b\n",
    "    b=c\n",
    "    c=c+1"
   ]
  },
  {
   "cell_type": "markdown",
   "id": "0a593880",
   "metadata": {},
   "source": [
    "# Q7"
   ]
  },
  {
   "cell_type": "code",
   "execution_count": 62,
   "id": "86567a47",
   "metadata": {},
   "outputs": [],
   "source": [
    "p='pwskills'"
   ]
  },
  {
   "cell_type": "code",
   "execution_count": 63,
   "id": "7f75fe92",
   "metadata": {},
   "outputs": [],
   "source": [
    "\n",
    "List = []\n",
    "for i in p:\n",
    "    List.append(i)"
   ]
  },
  {
   "cell_type": "code",
   "execution_count": 64,
   "id": "ee526420",
   "metadata": {},
   "outputs": [
    {
     "name": "stdout",
     "output_type": "stream",
     "text": [
      "['p', 'w', 's', 'k', 'i', 'l', 'l', 's']\n"
     ]
    }
   ],
   "source": [
    "print(List)"
   ]
  },
  {
   "cell_type": "markdown",
   "id": "14511f59",
   "metadata": {},
   "source": [
    "Q9# "
   ]
  },
  {
   "cell_type": "code",
   "execution_count": 65,
   "id": "26bf7be0",
   "metadata": {},
   "outputs": [],
   "source": [
    "l=list(range(100))"
   ]
  },
  {
   "cell_type": "code",
   "execution_count": 67,
   "id": "2148e11c",
   "metadata": {},
   "outputs": [
    {
     "data": {
      "text/plain": [
       "[1,\n",
       " 3,\n",
       " 5,\n",
       " 7,\n",
       " 9,\n",
       " 11,\n",
       " 13,\n",
       " 15,\n",
       " 17,\n",
       " 19,\n",
       " 21,\n",
       " 23,\n",
       " 25,\n",
       " 27,\n",
       " 29,\n",
       " 31,\n",
       " 33,\n",
       " 35,\n",
       " 37,\n",
       " 39,\n",
       " 41,\n",
       " 43,\n",
       " 45,\n",
       " 47,\n",
       " 49,\n",
       " 51,\n",
       " 53,\n",
       " 55,\n",
       " 57,\n",
       " 59,\n",
       " 61,\n",
       " 63,\n",
       " 65,\n",
       " 67,\n",
       " 69,\n",
       " 71,\n",
       " 73,\n",
       " 75,\n",
       " 77,\n",
       " 79,\n",
       " 81,\n",
       " 83,\n",
       " 85,\n",
       " 87,\n",
       " 89,\n",
       " 91,\n",
       " 93,\n",
       " 95,\n",
       " 97,\n",
       " 99]"
      ]
     },
     "execution_count": 67,
     "metadata": {},
     "output_type": "execute_result"
    }
   ],
   "source": [
    "[i for i in l if i%2!=0]"
   ]
  },
  {
   "cell_type": "code",
   "execution_count": null,
   "id": "8887c993",
   "metadata": {},
   "outputs": [],
   "source": []
  }
 ],
 "metadata": {
  "kernelspec": {
   "display_name": "Python 3 (ipykernel)",
   "language": "python",
   "name": "python3"
  },
  "language_info": {
   "codemirror_mode": {
    "name": "ipython",
    "version": 3
   },
   "file_extension": ".py",
   "mimetype": "text/x-python",
   "name": "python",
   "nbconvert_exporter": "python",
   "pygments_lexer": "ipython3",
   "version": "3.10.9"
  }
 },
 "nbformat": 4,
 "nbformat_minor": 5
}
